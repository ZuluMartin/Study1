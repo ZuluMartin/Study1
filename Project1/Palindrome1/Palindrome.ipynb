{
 "cells": [
  {
   "cell_type": "code",
   "execution_count": 1,
   "metadata": {},
   "outputs": [
    {
     "name": "stdout",
     "output_type": "stream",
     "text": [
      "906609\n"
     ]
    }
   ],
   "source": [
    "# define n equals to zero\n",
    "n = 0\n",
    "# uses range () function for below : range([start], stop[, step])\n",
    "# 999 equals starting number of sequence\n",
    "# 100 equals generates numbers up to\n",
    "# -1 equals difference between each number in sequence\n",
    "for a in range(999, 100, -1):\n",
    "# a equals calling previous range of a\n",
    "    for b in range(a, 99, -1):\n",
    "# x equals product of a and b\n",
    "        x = a * b\n",
    "# if statement : if x > n, where n value is zero\n",
    "        if x > n:\n",
    "# assign s equals value of str() product of a and b\n",
    "            s = str(a * b)\n",
    "# all items in the in the array, reversed\n",
    "            if s == s[::-1]:\n",
    "# n equals product of a and b\n",
    "                n = a * b\n",
    "# will return value of n\n",
    "print(n)"
   ]
  },
  {
   "cell_type": "code",
   "execution_count": null,
   "metadata": {},
   "outputs": [],
   "source": []
  }
 ],
 "metadata": {
  "kernelspec": {
   "display_name": "Python 3",
   "language": "python",
   "name": "python3"
  },
  "language_info": {
   "codemirror_mode": {
    "name": "ipython",
    "version": 3
   },
   "file_extension": ".py",
   "mimetype": "text/x-python",
   "name": "python",
   "nbconvert_exporter": "python",
   "pygments_lexer": "ipython3",
   "version": "3.6.5"
  }
 },
 "nbformat": 4,
 "nbformat_minor": 2
}
