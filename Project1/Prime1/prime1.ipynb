{
 "cells": [
  {
   "cell_type": "code",
   "execution_count": 1,
   "metadata": {},
   "outputs": [
    {
     "name": "stdout",
     "output_type": "stream",
     "text": [
      "1060\n"
     ]
    }
   ],
   "source": [
    "# define zero equals sum\n",
    "sum=0\n",
    "# set limit equals 100\n",
    "limit=100\n",
    "# for statement\n",
    "# uses range () function for below : range([start], stop[, step])\n",
    "# 2 equals starting number of sequence\n",
    "# limit+1 equals generates numbers up to 100\n",
    "for n in range(2,limit+1):\n",
    "# range statement using all() method under if condition\n",
    "  if all(n % i for i in range(2, n)):\n",
    "# n equals to sum value\n",
    "    sum = sum + n\n",
    "# print value of sum\n",
    "print (sum)"
   ]
  },
  {
   "cell_type": "code",
   "execution_count": null,
   "metadata": {},
   "outputs": [],
   "source": []
  }
 ],
 "metadata": {
  "kernelspec": {
   "display_name": "Python 3",
   "language": "python",
   "name": "python3"
  },
  "language_info": {
   "codemirror_mode": {
    "name": "ipython",
    "version": 3
   },
   "file_extension": ".py",
   "mimetype": "text/x-python",
   "name": "python",
   "nbconvert_exporter": "python",
   "pygments_lexer": "ipython3",
   "version": "3.6.5"
  }
 },
 "nbformat": 4,
 "nbformat_minor": 2
}
