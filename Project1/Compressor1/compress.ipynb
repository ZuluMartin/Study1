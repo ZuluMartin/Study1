{
 "cells": [
  {
   "cell_type": "code",
   "execution_count": 23,
   "metadata": {},
   "outputs": [
    {
     "name": "stdout",
     "output_type": "stream",
     "text": [
      "S1t2r3i1n4g1C6o1m1p3r1e1s5o1r5\n"
     ]
    }
   ],
   "source": [
    "# s parameter where function named compress\n",
    "def compress(s):\n",
    "# zero equality operator s parameter in len()\n",
    "    if len(s) == 0:\n",
    "# else return none        \n",
    "        return None\n",
    "# lists equals arrangement    \n",
    "    arrangement = []\n",
    "# index equals zero\n",
    "    index = 0\n",
    "# s with parameter zero equals letter    \n",
    "    letter = s[0]\n",
    "# for s  in l\n",
    "    for l in s:\n",
    "# parameter letter for ord() method equality operator and letter equality operator to l        \n",
    "        if l == letter and ord(l) == ord(letter):\n",
    "            index = index + 1\n",
    "        else: \n",
    "# index parameter repr() module plus letter append() method\n",
    "            arrangement.append(letter + repr(index))\n",
    "            letter = l\n",
    "            index = 1\n",
    "            \n",
    "    arrangement.append(letter + repr(index))   \n",
    "# arrangement parameter using join() function    \n",
    "    return \"\".join(arrangement)\n",
    "        \n",
    "# compress string \n",
    "print(compress(\"SttrrrinnnngCCCCCCompppresssssorrrrr\"))"
   ]
  },
  {
   "cell_type": "code",
   "execution_count": null,
   "metadata": {},
   "outputs": [],
   "source": []
  }
 ],
 "metadata": {
  "kernelspec": {
   "display_name": "Python 3",
   "language": "python",
   "name": "python3"
  },
  "language_info": {
   "codemirror_mode": {
    "name": "ipython",
    "version": 3
   },
   "file_extension": ".py",
   "mimetype": "text/x-python",
   "name": "python",
   "nbconvert_exporter": "python",
   "pygments_lexer": "ipython3",
   "version": "3.6.5"
  }
 },
 "nbformat": 4,
 "nbformat_minor": 2
}
