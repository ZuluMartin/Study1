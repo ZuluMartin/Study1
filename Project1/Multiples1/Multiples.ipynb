{
 "cells": [
  {
   "cell_type": "code",
   "execution_count": 1,
   "metadata": {},
   "outputs": [
    {
     "name": "stdout",
     "output_type": "stream",
     "text": [
      "233168\n"
     ]
    }
   ],
   "source": [
    "# zero equals to sum\n",
    "sum = 0\n",
    "# range()\n",
    "# start value equals 1\n",
    "# stop value equals 1000\n",
    "for i in range (1,1000):\n",
    "# range() i modulus operator 5 equality operator zero or \n",
    "# range() i modulus operator 3 equality operator zero\n",
    "        if (i%3)==0 or (i%5)==0:\n",
    "# i plus and equals to sum        \n",
    "            sum += i\n",
    "# print output sum\n",
    "print(sum)"
   ]
  },
  {
   "cell_type": "code",
   "execution_count": null,
   "metadata": {},
   "outputs": [],
   "source": []
  }
 ],
 "metadata": {
  "kernelspec": {
   "display_name": "Python 3",
   "language": "python",
   "name": "python3"
  },
  "language_info": {
   "codemirror_mode": {
    "name": "ipython",
    "version": 3
   },
   "file_extension": ".py",
   "mimetype": "text/x-python",
   "name": "python",
   "nbconvert_exporter": "python",
   "pygments_lexer": "ipython3",
   "version": "3.6.5"
  }
 },
 "nbformat": 4,
 "nbformat_minor": 2
}
